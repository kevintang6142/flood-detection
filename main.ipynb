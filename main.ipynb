{
 "cells": [
  {
   "cell_type": "code",
   "execution_count": 1,
   "id": "9a38aad3",
   "metadata": {},
   "outputs": [],
   "source": [
    "import os\n",
    "import rasterio\n",
    "import numpy as np\n",
    "from PIL import Image"
   ]
  },
  {
   "cell_type": "code",
   "execution_count": null,
   "id": "9a382905",
   "metadata": {},
   "outputs": [],
   "source": [
    "input_folder = \"ground_truth_cd_tif\"\n",
    "output_folder = \"ground_truth_cd_png\"\n",
    "\n",
    "os.makedirs(output_folder, exist_ok=True)\n",
    "\n",
    "for filename in os.listdir(input_folder):\n",
    "    if filename.lower().endswith(\".tif\"):\n",
    "        input_path = os.path.join(input_folder, filename)\n",
    "        output_filename = os.path.splitext(filename)[0] + \".png\"\n",
    "        output_path = os.path.join(output_folder, output_filename)\n",
    "\n",
    "        with rasterio.open(input_path) as src:\n",
    "            data = src.read(1)\n",
    "\n",
    "        grayscale_array = (data * 255).astype(np.uint8)\n",
    "        image = Image.fromarray(grayscale_array, mode='L')\n",
    "        image.save(output_path)"
   ]
  },
  {
   "cell_type": "code",
   "execution_count": null,
   "id": "13c9c4f8",
   "metadata": {},
   "outputs": [],
   "source": [
    "input_folder = \"optical_tif\"\n",
    "output_folder = \"optical_png\"\n",
    "\n",
    "os.makedirs(output_folder, exist_ok=True)\n",
    "\n",
    "for filename in os.listdir(input_folder):\n",
    "    if filename.lower().endswith(\".tif\"):\n",
    "        input_path = os.path.join(input_folder, filename)\n",
    "        output_filename = os.path.splitext(filename)[0] + \".png\"\n",
    "        output_path = os.path.join(output_folder, output_filename)\n",
    "\n",
    "        with rasterio.open(input_path) as src:\n",
    "            data = src.read()\n",
    "            rgb_array = np.transpose(data[:3], (1, 2, 0)).astype(np.uint8)\n",
    "\n",
    "        image = Image.fromarray(rgb_array, mode='RGB')\n",
    "        image.save(output_path)"
   ]
  }
 ],
 "metadata": {
  "kernelspec": {
   "display_name": ".venv",
   "language": "python",
   "name": "python3"
  },
  "language_info": {
   "codemirror_mode": {
    "name": "ipython",
    "version": 3
   },
   "file_extension": ".py",
   "mimetype": "text/x-python",
   "name": "python",
   "nbconvert_exporter": "python",
   "pygments_lexer": "ipython3",
   "version": "3.10.12"
  }
 },
 "nbformat": 4,
 "nbformat_minor": 5
}
