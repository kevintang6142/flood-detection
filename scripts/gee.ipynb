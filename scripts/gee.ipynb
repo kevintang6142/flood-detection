{
  "cells": [
    {
      "cell_type": "code",
      "execution_count": null,
      "metadata": {
        "id": "w2eEMAlBiBch"
      },
      "outputs": [],
      "source": [
        "import ee\n",
        "import geemap.core as geemap"
      ]
    },
    {
      "cell_type": "code",
      "execution_count": null,
      "metadata": {
        "id": "33uzwetlHxGZ"
      },
      "outputs": [],
      "source": [
        "ee.Authenticate()\n",
        "ee.Initialize(project='flood-detection-463214')"
      ]
    },
    {
      "cell_type": "code",
      "execution_count": null,
      "metadata": {
        "id": "QJ6E6fDtGR-f"
      },
      "outputs": [],
      "source": [
        "land_cover_1 = ee.Image('projects/flood-detection-463214/assets/17S_20180101-20190101')\n",
        "land_cover_2 = ee.Image('projects/flood-detection-463214/assets/18S_20180101-20190101')\n",
        "land_cover = ee.ImageCollection([land_cover_1, land_cover_2]).mosaic()"
      ]
    },
    {
      "cell_type": "code",
      "execution_count": null,
      "metadata": {
        "id": "fIE019dVJTki"
      },
      "outputs": [],
      "source": [
        "flood_mask = ee.Image('projects/flood-detection-463214/assets/FloodExtentFlorence')\n",
        "water_image = land_cover.eq(1).Or(land_cover.eq(4))\n",
        "change_mask = flood_mask.unmask().And(water_image.Not()).selfMask()"
      ]
    },
    {
      "cell_type": "code",
      "source": [
        "dataset = ee.ImageCollection('USDA/NAIP/DOQQ').filter(ee.Filter.date('2016-01-01', '2018-08-01'));\n",
        "trueColor = dataset.select(['R', 'G', 'B']);\n",
        "trueImage = trueColor.mosaic()"
      ],
      "metadata": {
        "id": "ozNC1XUZYlg0"
      },
      "execution_count": null,
      "outputs": []
    },
    {
      "cell_type": "code",
      "source": [
        "se_nc = ee.Geometry.Rectangle([-80, 33.5, -76, 36])\n",
        "map = geemap.Map()\n",
        "map.addLayer(se_nc, {}, 'SE NC Rectangle')\n",
        "map"
      ],
      "metadata": {
        "id": "HSbTot-4Ng7a"
      },
      "execution_count": null,
      "outputs": []
    },
    {
      "cell_type": "code",
      "source": [
        "task = ee.batch.Export.image.toDrive(\n",
        "    image=change_mask.unmask().clip(se_nc),\n",
        "    description=\"flood_change_mask\",\n",
        "    region=se_nc,\n",
        "    crs='EPSG:3857',\n",
        "    scale=20,\n",
        "    maxPixels=1e13\n",
        ")\n",
        "task.start()\n"
      ],
      "metadata": {
        "id": "d7PNcWW-61qj"
      },
      "execution_count": null,
      "outputs": []
    },
    {
      "cell_type": "code",
      "execution_count": null,
      "metadata": {
        "id": "w912rsv1g3cK"
      },
      "outputs": [],
      "source": [
        "task = ee.batch.Export.image.toDrive(\n",
        "    image=land_cover.unmask().clip(se_nc),\n",
        "    description=\"optical_sc_nc\",\n",
        "    region=se_nc,\n",
        "    crs='EPSG:3857',\n",
        "    scale=20,\n",
        "    maxPixels=1e13\n",
        ")\n",
        "task.start()\n"
      ]
    },
    {
      "cell_type": "code",
      "source": [
        "task = ee.batch.Export.image.toDrive(\n",
        "    image=trueImage.clip(se_nc),\n",
        "    description=\"land_cover_mask\",\n",
        "    region=se_nc,\n",
        "    crs='EPSG:3857',\n",
        "    scale=20,\n",
        "    maxPixels=1e13\n",
        ")\n",
        "task.start()\n"
      ],
      "metadata": {
        "id": "qBDHV0j9MKd4"
      },
      "execution_count": null,
      "outputs": []
    }
  ],
  "metadata": {
    "colab": {
      "provenance": []
    },
    "kernelspec": {
      "display_name": "Python 3",
      "name": "python3"
    },
    "language_info": {
      "name": "python"
    }
  },
  "nbformat": 4,
  "nbformat_minor": 0
}